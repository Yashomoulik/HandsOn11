{
  "nbformat": 4,
  "nbformat_minor": 0,
  "metadata": {
    "colab": {
      "provenance": [],
      "authorship_tag": "ABX9TyM96/PCuaDE75TRyiMXvncZ",
      "include_colab_link": true
    },
    "kernelspec": {
      "name": "python3",
      "display_name": "Python 3"
    },
    "language_info": {
      "name": "python"
    }
  },
  "cells": [
    {
      "cell_type": "markdown",
      "metadata": {
        "id": "view-in-github",
        "colab_type": "text"
      },
      "source": [
        "<a href=\"https://colab.research.google.com/github/Yashomoulik/HandsOn11/blob/main/HandsOn11.ipynb\" target=\"_parent\"><img src=\"https://colab.research.google.com/assets/colab-badge.svg\" alt=\"Open In Colab\"/></a>"
      ]
    },
    {
      "cell_type": "code",
      "execution_count": 3,
      "metadata": {
        "colab": {
          "base_uri": "https://localhost:8080/"
        },
        "id": "szlBJzl_Pt5Q",
        "outputId": "354671b3-004d-437c-eb6f-4220d3b90bd1"
      },
      "outputs": [
        {
          "output_type": "stream",
          "name": "stdout",
          "text": [
            "Initial array: []\n",
            "Array after adding 20, 30, 40: [20, 30, 40]\n",
            "Element at index 0: 20\n",
            "Element at index 1: 30\n",
            "Element at index 2: 40\n",
            "Array after updating index 1 to 100: [20, 100, 40]\n",
            "Array after adding 50, 60: [20, 100, 40, 50, 60]\n",
            "Array after deleting the last element: [20, 100, 40, 50]\n",
            "Array after deleting another element: [20, 100, 40]\n",
            "Final array: [20, 100, 40]\n"
          ]
        }
      ],
      "source": [
        "class ResizableArray:\n",
        "    def __init__(self):\n",
        "        self.count = 0\n",
        "        self.capacity = 1\n",
        "        self.storage = self._initialize_array(self.capacity)\n",
        "\n",
        "    def _initialize_array(self, capacity):\n",
        "        \"\"\"Generates a new array with the specified capacity.\"\"\"\n",
        "        return [0] * capacity\n",
        "\n",
        "    def _expand(self, new_capacity):\n",
        "        \"\"\"Increases the size of the array to the new capacity.\"\"\"\n",
        "        new_storage = self._initialize_array(new_capacity)\n",
        "        for i in range(self.count):\n",
        "            new_storage[i] = self.storage[i]\n",
        "        self.storage = new_storage\n",
        "        self.capacity = new_capacity\n",
        "\n",
        "    def add(self, element):\n",
        "        \"\"\"Appends an element at the end of the array.\"\"\"\n",
        "        if self.count == self.capacity:\n",
        "          self._expand(2 * self.capacity)\n",
        "        self.storage[self.count] = element\n",
        "        self.count += 1\n",
        "\n",
        "    def get_element(self, index):\n",
        "        \"\"\"Fetches the element at the given index.\"\"\"\n",
        "        if 0 <= index < self.count:\n",
        "            return self.storage[index]\n",
        "        raise IndexError(\"Index out of range\")\n",
        "\n",
        "    def update(self, index, element):\n",
        "        \"\"\"Updates the element at the specified index.\"\"\"\n",
        "        if 0 <= index < self.count:\n",
        "            self.storage[index] = element\n",
        "        else:\n",
        "            raise IndexError(\"Index out of range\")\n",
        "\n",
        "    def delete_last(self):\n",
        "        \"\"\"Removes the last element in the array.\"\"\"\n",
        "        if self.count > 0:\n",
        "            self.count -= 1\n",
        "            # Shrink the array if count is one-fourth of the capacity\n",
        "            if self.count <= self.capacity // 4:\n",
        "                self._expand(max(1, self.capacity // 2))\n",
        "        else:\n",
        "            raise IndexError(\"Cannot delete from an empty array\")\n",
        "\n",
        "    def __str__(self):\n",
        "        \"\"\"Returns a string representation of the array elements.\"\"\"\n",
        "        return str([self.storage[i] for i in range(self.count)])\n",
        "\n",
        "# Test cases\n",
        "# Initialize array\n",
        "resizable_array = ResizableArray()\n",
        "print(\"Initial array:\", resizable_array)\n",
        "\n",
        "# Add elements\n",
        "resizable_array.add(20)\n",
        "resizable_array.add(30)\n",
        "resizable_array.add(40)\n",
        "print(\"Array after adding 20, 30, 40:\", resizable_array)\n",
        "\n",
        "# Access elements\n",
        "print(\"Element at index 0:\", resizable_array.get_element(0))\n",
        "print(\"Element at index 1:\", resizable_array.get_element(1))\n",
        "print(\"Element at index 2:\", resizable_array.get_element(2))\n",
        "\n",
        "# Update elements\n",
        "resizable_array.update(1, 100)\n",
        "print(\"Array after updating index 1 to 100:\", resizable_array)\n",
        "\n",
        "# Add more elements to trigger resizing\n",
        "resizable_array.add(50)\n",
        "resizable_array.add(60)\n",
        "print(\"Array after adding 50, 60:\", resizable_array)\n",
        "\n",
        "# Delete elements\n",
        "resizable_array.delete_last()\n",
        "print(\"Array after deleting the last element:\", resizable_array)\n",
        "resizable_array.delete_last()\n",
        "print(\"Array after deleting another element:\", resizable_array)\n",
        "\n",
        "# Final state of the array\n",
        "print(\"Final array:\", resizable_array)"
      ]
    }
  ]
}